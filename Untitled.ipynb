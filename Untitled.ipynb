{
 "cells": [
  {
   "cell_type": "code",
   "execution_count": 4,
   "metadata": {},
   "outputs": [
    {
     "data": {
      "text/plain": [
       "<torch._C.Generator at 0x7f3d77305a90>"
      ]
     },
     "execution_count": 4,
     "metadata": {},
     "output_type": "execute_result"
    }
   ],
   "source": [
    "import numpy as np\n",
    "import torch\n",
    "from torch.autograd import Variable\n",
    "import torch.nn as nn\n",
    "import pandas as pd\n",
    "import random\n",
    "import math\n",
    "torch.manual_seed(42)\n"
   ]
  },
  {
   "cell_type": "code",
   "execution_count": 5,
   "metadata": {},
   "outputs": [
    {
     "name": "stdout",
     "output_type": "stream",
     "text": [
      "[tensor([3]), tensor([4]), tensor([5]), tensor([6])]\n",
      "[tensor([3]), tensor([5]), tensor([4]), tensor([6])]\n"
     ]
    }
   ],
   "source": [
    "class MyIterableDataset(torch.utils.data.IterableDataset):\n",
    "    def __init__(self, start, end):\n",
    "        super(MyIterableDataset).__init__()\n",
    "        assert end > start, \"this example code only works with end >= start\"\n",
    "        self.start = start\n",
    "        self.end = end\n",
    "\n",
    "    def __iter__(self):\n",
    "        worker_info = torch.utils.data.get_worker_info()\n",
    "        if worker_info is None:  # single-process data loading, return the full iterator\n",
    "            iter_start = self.start\n",
    "            iter_end = self.end\n",
    "        else:  # in a worker process\n",
    "            # split workload\n",
    "            per_worker = int(math.ceil((self.end - self.start) / float(worker_info.num_workers)))\n",
    "            worker_id = worker_info.id\n",
    "            iter_start = self.start + worker_id * per_worker\n",
    "            iter_end = min(iter_start + per_worker, self.end)\n",
    "        return iter(range(iter_start, iter_end))\n",
    "\n",
    "# should give same set of data as range(3, 7), i.e., [3, 4, 5, 6].\n",
    "ds = MyIterableDataset(start=3, end=7)\n",
    "\n",
    "# Single-process loading\n",
    "print(list(torch.utils.data.DataLoader(ds, num_workers=0)))\n",
    "\n",
    "print(list(torch.utils.data.DataLoader(ds, num_workers=2)))"
   ]
  },
  {
   "cell_type": "code",
   "execution_count": 6,
   "metadata": {},
   "outputs": [],
   "source": [
    "dl = torch.utils.data.DataLoader(ds, num_workers=0)"
   ]
  },
  {
   "cell_type": "code",
   "execution_count": null,
   "metadata": {},
   "outputs": [],
   "source": []
  },
  {
   "cell_type": "code",
   "execution_count": null,
   "metadata": {},
   "outputs": [],
   "source": []
  },
  {
   "cell_type": "code",
   "execution_count": null,
   "metadata": {},
   "outputs": [],
   "source": []
  },
  {
   "cell_type": "code",
   "execution_count": 2,
   "metadata": {},
   "outputs": [],
   "source": [
    "dataset = []\n",
    "\n",
    "with open(\"data/train.csv\", \"r\") as f:\n",
    "    f.readline()\n",
    "    for line in f:\n",
    "        dataset.append([int(item) for item in line.split(\",\")[1].split(\" \")])\n"
   ]
  },
  {
   "cell_type": "code",
   "execution_count": 3,
   "metadata": {},
   "outputs": [],
   "source": [
    "item_amount = max(map(max, dataset)) + 1\n",
    "user_amount = len(dataset)\n",
    "positive_set = [set(d) for d in dataset]"
   ]
  },
  {
   "cell_type": "code",
   "execution_count": 4,
   "metadata": {},
   "outputs": [],
   "source": [
    "k = 50\n",
    "LAMBDA = 1e-2\n",
    "LR = 1e-2"
   ]
  },
  {
   "cell_type": "code",
   "execution_count": 5,
   "metadata": {},
   "outputs": [],
   "source": [
    "W = torch.randn([user_amount, k])\n",
    "H = torch.randn([item_amount, k])"
   ]
  },
  {
   "cell_type": "code",
   "execution_count": 6,
   "metadata": {},
   "outputs": [],
   "source": [
    "def predict(u, i):\n",
    "    Wu = W[u].view(1, W[u].size()[0])\n",
    "    return torch.mv(Wu, H[i].squeeze(0))\n",
    "\n",
    "\n",
    "def predict_diff(u, i, j):\n",
    "    return (predict(u, i) - predict(u, j))[0]\n",
    "\n",
    "\n",
    "def partial_BPR(x_uij, partial_x):\n",
    "    exp_x = np.exp(-x_uij)\n",
    "    return exp_x / (1 + exp_x) * partial_x"
   ]
  },
  {
   "cell_type": "code",
   "execution_count": 7,
   "metadata": {
    "scrolled": true
   },
   "outputs": [
    {
     "name": "stdout",
     "output_type": "stream",
     "text": [
      "tensor([-2.3908,  0.3222,  1.8754,  1.1043, -0.5224, -0.7402,  0.1624, -0.2370,\n",
      "         0.5099,  1.6706,  1.5921, -0.4162,  1.8619, -1.0779,  0.8849, -0.8342,\n",
      "         1.0301, -0.8681, -0.5702,  0.3233,  1.1285, -1.2123,  2.6024, -0.0957,\n",
      "        -0.0811,  1.2587,  0.8691, -0.9609,  0.0518, -0.3285, -2.2472, -0.4479,\n",
      "         0.4235, -0.3875, -0.2296, -0.4071,  0.8703, -1.0553, -1.3284,  0.7061,\n",
      "         0.3573,  0.5893,  0.9188,  0.6663,  0.2465,  0.1329,  0.1219,  0.4781,\n",
      "         0.2761, -0.5896])\n",
      "tensor([-2.2645,  0.2065, -0.1617, -1.8961,  0.5759,  0.6542,  1.3688, -0.3316,\n",
      "        -2.1775,  0.6719, -0.0685, -1.0772, -0.1347,  1.4268, -0.0518,  0.1777,\n",
      "         0.3277,  1.1296, -0.9512,  0.2790, -0.5864,  0.0718, -1.4304, -2.0507,\n",
      "        -1.0929,  1.7251,  0.4307,  0.5796, -0.1439,  0.1378,  0.4437,  1.1047,\n",
      "        -0.5999, -1.4214,  0.2037,  1.2549, -0.4299,  0.3687,  0.5955,  1.4214,\n",
      "         1.0173, -0.8832,  0.5776, -1.1064, -0.0419, -1.7867,  0.4549, -1.0638,\n",
      "         0.2150, -1.3523])\n",
      "tensor([-2.3908,  0.3222,  1.8754,  1.1043, -0.5224, -0.7402,  0.1624, -0.2370,\n",
      "         0.5099,  1.6706,  1.5921, -0.4162,  1.8619, -1.0779,  0.8849, -0.8342,\n",
      "         1.0301, -0.8681, -0.5702,  0.3233,  1.1285, -1.2123,  2.6024, -0.0957,\n",
      "        -0.0811,  1.2587,  0.8691, -0.9609,  0.0518, -0.3285, -2.2472, -0.4479,\n",
      "         0.4235, -0.3875, -0.2296, -0.4071,  0.8703, -1.0553, -1.3284,  0.7061,\n",
      "         0.3573,  0.5893,  0.9188,  0.6663,  0.2465,  0.1329,  0.1219,  0.4781,\n",
      "         0.2761, -0.5896])\n",
      "tensor([-2.2645,  0.2059, -0.1617, -1.8960,  0.5760,  0.6544,  1.3684, -0.3318,\n",
      "        -2.1773,  0.6718, -0.0685, -1.0773, -0.1351,  1.4268, -0.0520,  0.1778,\n",
      "         0.3277,  1.1294, -0.9515,  0.2793, -0.5866,  0.0716, -1.4308, -2.0508,\n",
      "        -1.0931,  1.7253,  0.4309,  0.5795, -0.1438,  0.1379,  0.4436,  1.1049,\n",
      "        -0.5999, -1.4214,  0.2037,  1.2550, -0.4298,  0.3688,  0.5956,  1.4211,\n",
      "         1.0177, -0.8830,  0.5777, -1.1061, -0.0422, -1.7866,  0.4553, -1.0639,\n",
      "         0.2147, -1.3522])\n",
      "tensor([-2.3908,  0.3222,  1.8754,  1.1042, -0.5223, -0.7401,  0.1623, -0.2369,\n",
      "         0.5099,  1.6705,  1.5921, -0.4162,  1.8619, -1.0779,  0.8848, -0.8343,\n",
      "         1.0301, -0.8681, -0.5702,  0.3234,  1.1285, -1.2123,  2.6024, -0.0958,\n",
      "        -0.0811,  1.2587,  0.8691, -0.9609,  0.0517, -0.3284, -2.2472, -0.4479,\n",
      "         0.4235, -0.3875, -0.2296, -0.4072,  0.8703, -1.0553, -1.3285,  0.7061,\n",
      "         0.3573,  0.5892,  0.9187,  0.6662,  0.2465,  0.1329,  0.1220,  0.4781,\n",
      "         0.2761, -0.5896])\n",
      "tensor([-2.2644,  0.2059, -0.1614, -1.8960,  0.5760,  0.6544,  1.3683, -0.3319,\n",
      "        -2.1774,  0.6720, -0.0686, -1.0770, -0.1349,  1.4268, -0.0515,  0.1777,\n",
      "         0.3279,  1.1295, -0.9512,  0.2790, -0.5870,  0.0713, -1.4307, -2.0506,\n",
      "        -1.0932,  1.7250,  0.4310,  0.5793, -0.1441,  0.1379,  0.4437,  1.1050,\n",
      "        -0.6000, -1.4217,  0.2039,  1.2548, -0.4302,  0.3688,  0.5955,  1.4211,\n",
      "         1.0182, -0.8830,  0.5779, -1.1065, -0.0426, -1.7866,  0.4553, -1.0638,\n",
      "         0.2149, -1.3524])\n",
      "tensor([-2.3910,  0.3219,  1.8755,  1.1045, -0.5223, -0.7402,  0.1623, -0.2371,\n",
      "         0.5100,  1.6705,  1.5921, -0.4159,  1.8617, -1.0780,  0.8848, -0.8343,\n",
      "         1.0302, -0.8681, -0.5702,  0.3235,  1.1283, -1.2122,  2.6025, -0.0956,\n",
      "        -0.0812,  1.2587,  0.8690, -0.9609,  0.0518, -0.3282, -2.2473, -0.4480,\n",
      "         0.4233, -0.3876, -0.2297, -0.4074,  0.8703, -1.0554, -1.3283,  0.7060,\n",
      "         0.3575,  0.5892,  0.9187,  0.6663,  0.2464,  0.1327,  0.1219,  0.4783,\n",
      "         0.2761, -0.5896])\n",
      "tensor([-2.2646,  0.2061, -0.1613, -1.8962,  0.5760,  0.6544,  1.3682, -0.3318,\n",
      "        -2.1775,  0.6718, -0.0685, -1.0772, -0.1349,  1.4268, -0.0515,  0.1779,\n",
      "         0.3280,  1.1294, -0.9512,  0.2792, -0.5868,  0.0713, -1.4307, -2.0508,\n",
      "        -1.0932,  1.7250,  0.4313,  0.5791, -0.1442,  0.1378,  0.4436,  1.1049,\n",
      "        -0.6001, -1.4217,  0.2041,  1.2547, -0.4304,  0.3688,  0.5955,  1.4213,\n",
      "         1.0182, -0.8829,  0.5779, -1.1064, -0.0426, -1.7868,  0.4553, -1.0637,\n",
      "         0.2149, -1.3524])\n",
      "tensor([-2.3910,  0.3219,  1.8755,  1.1045, -0.5223, -0.7402,  0.1623, -0.2371,\n",
      "         0.5100,  1.6705,  1.5921, -0.4159,  1.8617, -1.0780,  0.8848, -0.8343,\n",
      "         1.0302, -0.8681, -0.5702,  0.3235,  1.1283, -1.2122,  2.6025, -0.0956,\n",
      "        -0.0812,  1.2587,  0.8690, -0.9609,  0.0518, -0.3282, -2.2473, -0.4480,\n",
      "         0.4233, -0.3876, -0.2297, -0.4074,  0.8703, -1.0554, -1.3283,  0.7060,\n",
      "         0.3575,  0.5892,  0.9187,  0.6663,  0.2464,  0.1327,  0.1219,  0.4783,\n",
      "         0.2761, -0.5896])\n",
      "tensor([-2.2643,  0.2059, -0.1613, -1.8963,  0.5756,  0.6540,  1.3683, -0.3314,\n",
      "        -2.1775,  0.6717, -0.0684, -1.0770, -0.1350,  1.4267, -0.0515,  0.1777,\n",
      "         0.3280,  1.1295, -0.9512,  0.2790, -0.5869,  0.0713, -1.4305, -2.0507,\n",
      "        -1.0931,  1.7249,  0.4312,  0.5792, -0.1441,  0.1376,  0.4435,  1.1053,\n",
      "        -0.6007, -1.4218,  0.2039,  1.2547, -0.4301,  0.3688,  0.5953,  1.4213,\n",
      "         1.0180, -0.8830,  0.5778, -1.1063, -0.0425, -1.7866,  0.4554, -1.0641,\n",
      "         0.2151, -1.3525])\n",
      "tensor([-2.3910,  0.3220,  1.8755,  1.1045, -0.5223, -0.7402,  0.1623, -0.2370,\n",
      "         0.5102,  1.6705,  1.5920, -0.4161,  1.8618, -1.0779,  0.8848, -0.8344,\n",
      "         1.0302, -0.8681, -0.5701,  0.3233,  1.1284, -1.2122,  2.6024, -0.0955,\n",
      "        -0.0812,  1.2587,  0.8691, -0.9610,  0.0520, -0.3280, -2.2473, -0.4480,\n",
      "         0.4233, -0.3875, -0.2297, -0.4074,  0.8703, -1.0554, -1.3283,  0.7061,\n",
      "         0.3574,  0.5893,  0.9187,  0.6661,  0.2464,  0.1327,  0.1219,  0.4782,\n",
      "         0.2761, -0.5896])\n",
      "tensor([-2.2643,  0.2061, -0.1609, -1.8963,  0.5756,  0.6538,  1.3684, -0.3315,\n",
      "        -2.1775,  0.6717, -0.0685, -1.0769, -0.1348,  1.4267, -0.0515,  0.1778,\n",
      "         0.3283,  1.1296, -0.9514,  0.2788, -0.5871,  0.0710, -1.4306, -2.0506,\n",
      "        -1.0931,  1.7251,  0.4310,  0.5791, -0.1440,  0.1376,  0.4438,  1.1055,\n",
      "        -0.6008, -1.4217,  0.2041,  1.2546, -0.4301,  0.3691,  0.5951,  1.4216,\n",
      "         1.0183, -0.8832,  0.5779, -1.1064, -0.0429, -1.7868,  0.4553, -1.0641,\n",
      "         0.2148, -1.3525])\n",
      "tensor([-2.3910,  0.3220,  1.8755,  1.1045, -0.5223, -0.7402,  0.1623, -0.2370,\n",
      "         0.5102,  1.6705,  1.5920, -0.4161,  1.8618, -1.0779,  0.8848, -0.8344,\n",
      "         1.0302, -0.8681, -0.5701,  0.3233,  1.1284, -1.2122,  2.6024, -0.0955,\n",
      "        -0.0812,  1.2587,  0.8691, -0.9610,  0.0520, -0.3280, -2.2473, -0.4480,\n",
      "         0.4233, -0.3875, -0.2297, -0.4074,  0.8703, -1.0554, -1.3283,  0.7061,\n",
      "         0.3574,  0.5893,  0.9187,  0.6661,  0.2464,  0.1327,  0.1219,  0.4782,\n",
      "         0.2761, -0.5896])\n",
      "tensor([-2.2642,  0.2061, -0.1609, -1.8964,  0.5755,  0.6540,  1.3679, -0.3314,\n",
      "        -2.1774,  0.6715, -0.0684, -1.0770, -0.1348,  1.4266, -0.0517,  0.1777,\n",
      "         0.3282,  1.1294, -0.9517,  0.2790, -0.5872,  0.0711, -1.4304, -2.0508,\n",
      "        -1.0934,  1.7254,  0.4309,  0.5789, -0.1442,  0.1378,  0.4439,  1.1056,\n",
      "        -0.6006, -1.4219,  0.2040,  1.2545, -0.4301,  0.3688,  0.5953,  1.4219,\n",
      "         1.0186, -0.8832,  0.5779, -1.1063, -0.0428, -1.7868,  0.4552, -1.0639,\n",
      "         0.2148, -1.3523])\n",
      "tensor([-2.3909,  0.3221,  1.8755,  1.1044, -0.5222, -0.7401,  0.1623, -0.2369,\n",
      "         0.5102,  1.6704,  1.5921, -0.4160,  1.8617, -1.0778,  0.8847, -0.8343,\n",
      "         1.0302, -0.8682, -0.5701,  0.3234,  1.1282, -1.2122,  2.6024, -0.0955,\n",
      "        -0.0813,  1.2588,  0.8690, -0.9611,  0.0520, -0.3281, -2.2473, -0.4480,\n",
      "         0.4233, -0.3876, -0.2298, -0.4075,  0.8703, -1.0555, -1.3284,  0.7059,\n",
      "         0.3575,  0.5893,  0.9187,  0.6662,  0.2464,  0.1327,  0.1221,  0.4781,\n",
      "         0.2759, -0.5897])\n",
      "tensor([-2.2642,  0.2058, -0.1608, -1.8965,  0.5758,  0.6536,  1.3676, -0.3317,\n",
      "        -2.1773,  0.6713, -0.0683, -1.0770, -0.1351,  1.4265, -0.0517,  0.1775,\n",
      "         0.3278,  1.1296, -0.9517,  0.2787, -0.5872,  0.0709, -1.4303, -2.0509,\n",
      "        -1.0940,  1.7252,  0.4306,  0.5788, -0.1439,  0.1374,  0.4439,  1.1060,\n",
      "        -0.6006, -1.4220,  0.2038,  1.2544, -0.4301,  0.3689,  0.5956,  1.4217,\n",
      "         1.0186, -0.8834,  0.5777, -1.1061, -0.0431, -1.7867,  0.4554, -1.0638,\n",
      "         0.2146, -1.3527])\n",
      "tensor([-2.3909,  0.3221,  1.8755,  1.1044, -0.5222, -0.7401,  0.1623, -0.2369,\n",
      "         0.5102,  1.6704,  1.5921, -0.4160,  1.8617, -1.0778,  0.8847, -0.8343,\n",
      "         1.0302, -0.8682, -0.5701,  0.3234,  1.1282, -1.2122,  2.6024, -0.0955,\n",
      "        -0.0813,  1.2588,  0.8690, -0.9611,  0.0520, -0.3281, -2.2473, -0.4480,\n",
      "         0.4233, -0.3876, -0.2298, -0.4075,  0.8703, -1.0555, -1.3284,  0.7059,\n",
      "         0.3575,  0.5893,  0.9187,  0.6662,  0.2464,  0.1327,  0.1221,  0.4781,\n",
      "         0.2759, -0.5897])\n",
      "tensor([-2.2647,  0.2059, -0.1606, -1.8965,  0.5759,  0.6538,  1.3676, -0.3316,\n",
      "        -2.1774,  0.6713, -0.0685, -1.0770, -0.1353,  1.4266, -0.0521,  0.1775,\n",
      "         0.3275,  1.1299, -0.9519,  0.2785, -0.5870,  0.0705, -1.4307, -2.0508,\n",
      "        -1.0941,  1.7254,  0.4307,  0.5788, -0.1439,  0.1374,  0.4439,  1.1061,\n",
      "        -0.6010, -1.4222,  0.2038,  1.2539, -0.4301,  0.3689,  0.5953,  1.4214,\n",
      "         1.0187, -0.8834,  0.5778, -1.1064, -0.0431, -1.7867,  0.4550, -1.0635,\n",
      "         0.2147, -1.3526])\n"
     ]
    },
    {
     "name": "stdout",
     "output_type": "stream",
     "text": [
      "tensor([-2.3911,  0.3215,  1.8758,  1.1044, -0.5220, -0.7406,  0.1625, -0.2377,\n",
      "         0.5101,  1.6703,  1.5921, -0.4160,  1.8615, -1.0778,  0.8846, -0.8346,\n",
      "         1.0301, -0.8682, -0.5701,  0.3239,  1.1282, -1.2117,  2.6024, -0.0956,\n",
      "        -0.0814,  1.2590,  0.8692, -0.9610,  0.0523, -0.3278, -2.2477, -0.4480,\n",
      "         0.4234, -0.3876, -0.2300, -0.4075,  0.8709, -1.0555, -1.3284,  0.7057,\n",
      "         0.3576,  0.5889,  0.9191,  0.6659,  0.2464,  0.1323,  0.1225,  0.4786,\n",
      "         0.2762, -0.5893])\n",
      "tensor([-2.2648,  0.2059, -0.1611, -1.8968,  0.5761,  0.6537,  1.3672, -0.3313,\n",
      "        -2.1772,  0.6713, -0.0686, -1.0772, -0.1351,  1.4264, -0.0521,  0.1776,\n",
      "         0.3275,  1.1298, -0.9520,  0.2784, -0.5869,  0.0702, -1.4307, -2.0508,\n",
      "        -1.0941,  1.7251,  0.4307,  0.5788, -0.1440,  0.1371,  0.4439,  1.1063,\n",
      "        -0.6007, -1.4220,  0.2041,  1.2537, -0.4302,  0.3688,  0.5953,  1.4211,\n",
      "         1.0188, -0.8835,  0.5780, -1.1066, -0.0433, -1.7872,  0.4552, -1.0640,\n",
      "         0.2145, -1.3524])\n",
      "99999\r"
     ]
    }
   ],
   "source": [
    "iteration = 100000\n",
    "lr = 1e-4\n",
    "\n",
    "\n",
    "def train(W, H, lr=1e-3, rr=0.02):\n",
    "    for itr in range(iteration):\n",
    "        print(itr, end='\\r')\n",
    "        u = random.randint(0, user_amount - 1)\n",
    "        i = random.sample(positive_set[u], 1)[0]\n",
    "        while True:\n",
    "            j = random.randint(0, item_amount - 1)\n",
    "            if j not in positive_set[u]:\n",
    "                break\n",
    "        x_uij = predict_diff(u, i, j)\n",
    "\n",
    "        for f in range(k):\n",
    "            W[u][f] -= lr * (partial_BPR(x_uij, H[i][f] - H[j][f]) + rr * W[u][f])\n",
    "            H[i][f] -= lr * (partial_BPR(x_uij, W[u][f]) + rr * H[i][f])\n",
    "            H[j][f] -= lr * (partial_BPR(x_uij, -W[u][f]) + rr * H[f][f])\n",
    "\n",
    "        if itr % 10000 == 0:\n",
    "            print(W[18])\n",
    "            print(H[0])\n",
    "\n",
    "    return W, H\n",
    "\n",
    "\n",
    "W, H = train(W, H, lr)\n"
   ]
  },
  {
   "cell_type": "code",
   "execution_count": 13,
   "metadata": {},
   "outputs": [],
   "source": [
    "result = torch.mm(W, H.t()).detach().numpy()"
   ]
  },
  {
   "cell_type": "code",
   "execution_count": 14,
   "metadata": {},
   "outputs": [],
   "source": [
    "result = np.argsort(result, axis=1)[:, ::-1]\n",
    "\n",
    "top_50 = []\n",
    "for idx, items in enumerate(result):\n",
    "    d = []\n",
    "    raw = set(dataset[idx])\n",
    "    for item in items:\n",
    "        if len(d) == 50:\n",
    "            break\n",
    "        if item not in raw:\n",
    "            d.append(str(item))\n",
    "\n",
    "    top_50.append(\" \".join(d))\n",
    "\n",
    "\n",
    "df = pd.DataFrame()\n",
    "df[\"UserId\"] = [i for i in range(user_amount)]\n",
    "df[\"ItemId\"] = top_50\n",
    "df.to_csv(\"output.csv\", index=False)\n"
   ]
  },
  {
   "cell_type": "code",
   "execution_count": null,
   "metadata": {},
   "outputs": [],
   "source": []
  },
  {
   "cell_type": "code",
   "execution_count": null,
   "metadata": {},
   "outputs": [],
   "source": []
  },
  {
   "cell_type": "code",
   "execution_count": null,
   "metadata": {},
   "outputs": [],
   "source": []
  },
  {
   "cell_type": "code",
   "execution_count": null,
   "metadata": {},
   "outputs": [],
   "source": []
  },
  {
   "cell_type": "code",
   "execution_count": 1,
   "metadata": {},
   "outputs": [],
   "source": [
    "import matplotlib.pyplot as plt\n",
    "%matplotlib inline"
   ]
  },
  {
   "cell_type": "code",
   "execution_count": 4,
   "metadata": {},
   "outputs": [],
   "source": [
    "y = [0.04602, 0.05062, 0.05256, 0.05303]\n",
    "x = [16, 32, 64, 128]"
   ]
  },
  {
   "cell_type": "code",
   "execution_count": 11,
   "metadata": {},
   "outputs": [
    {
     "data": {
      "image/png": "[encoded data removed]",
      "text/plain": [
       "<Figure size 432x288 with 1 Axes>"
      ]
     },
     "metadata": {
      "needs_background": "light"
     },
     "output_type": "display_data"
    }
   ],
   "source": [
    "plt.plot(x, y)\n",
    "# plt.xlim([0, 130])\n",
    "plt.ylim([0.045, 0.055])\n",
    "plt.xlabel(\"hidden dimension\")\n",
    "plt.ylabel(\"MAP score\")\n",
    "plt.savefig(\"Q4.png\", dpi=300)\n",
    "plt.show()"
   ]
  }
 ],
 "metadata": {
  "kernelspec": {
   "display_name": "Python 3",
   "language": "python",
   "name": "python3"
  },
  "language_info": {
   "codemirror_mode": {
    "name": "ipython",
    "version": 3
   },
   "file_extension": ".py",
   "mimetype": "text/x-python",
   "name": "python",
   "nbconvert_exporter": "python",
   "pygments_lexer": "ipython3",
   "version": "3.8.1"
  }
 },
 "nbformat": 4,
 "nbformat_minor": 4
}
